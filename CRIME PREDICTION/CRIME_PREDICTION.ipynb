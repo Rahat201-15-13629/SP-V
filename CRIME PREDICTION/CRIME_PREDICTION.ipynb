{
  "nbformat": 4,
  "nbformat_minor": 0,
  "metadata": {
    "colab": {
      "name": "CRIME_PREDICTION.ipynb",
      "provenance": [],
      "collapsed_sections": []
    },
    "kernelspec": {
      "name": "python3",
      "display_name": "Python 3"
    },
    "language_info": {
      "name": "python"
    }
  },
  "cells": [
    {
      "cell_type": "code",
      "execution_count": 47,
      "metadata": {
        "id": "ksRvRNpnh_f0"
      },
      "outputs": [],
      "source": [
        "import pandas as pd\n",
        "from sklearn.model_selection import train_test_split\n",
        "from sklearn.preprocessing import OneHotEncoder"
      ]
    },
    {
      "cell_type": "code",
      "source": [
        "from sklearn.ensemble import RandomForestClassifier\n",
        "from sklearn.ensemble import GradientBoostingClassifier"
      ],
      "metadata": {
        "id": "hWxB0H43ia9h"
      },
      "execution_count": 48,
      "outputs": []
    },
    {
      "cell_type": "code",
      "source": [
        "from sklearn.metrics import confusion_matrix, classification_report, accuracy_score"
      ],
      "metadata": {
        "id": "zAUtRfnCimHf"
      },
      "execution_count": 86,
      "outputs": []
    },
    {
      "cell_type": "code",
      "source": [
        "df = pd.read_csv('/content/Major_Crime_Indicators.csv',sep=',')"
      ],
      "metadata": {
        "id": "vGFY9m43jTCn",
        "colab": {
          "base_uri": "https://localhost:8080/"
        },
        "outputId": "65db5cee-e69c-4546-ff85-3aa6015de48f"
      },
      "execution_count": 104,
      "outputs": [
        {
          "output_type": "stream",
          "name": "stderr",
          "text": [
            "/usr/local/lib/python3.7/dist-packages/IPython/core/interactiveshell.py:2882: DtypeWarning: Columns (25) have mixed types.Specify dtype option on import or set low_memory=False.\n",
            "  exec(code_obj, self.user_global_ns, self.user_ns)\n"
          ]
        }
      ]
    },
    {
      "cell_type": "code",
      "source": [
        "df"
      ],
      "metadata": {
        "colab": {
          "base_uri": "https://localhost:8080/",
          "height": 1000
        },
        "id": "VWySYz7LjUJD",
        "outputId": "a985fed7-c64e-4a5e-dff0-d61002a7d6b3"
      },
      "execution_count": 65,
      "outputs": [
        {
          "output_type": "execute_result",
          "data": {
            "text/plain": [
              "                   X             Y  Index_ event_unique_id Division  \\\n",
              "0      -8.859955e+06  5.424372e+06     110  GO-20141625305      D23   \n",
              "1      -8.861110e+06  5.424036e+06     188  GO-20141272968      D23   \n",
              "2      -8.861120e+06  5.417043e+06     287  GO-20141284361      D23   \n",
              "3      -8.861463e+06  5.425856e+06     384  GO-20141292177      D23   \n",
              "4      -8.859522e+06  5.418688e+06     438  GO-20141297201      D23   \n",
              "...              ...           ...     ...             ...      ...   \n",
              "281687 -8.821530e+06  5.440408e+06  241900  GO-20212225907      NSA   \n",
              "281688 -8.826173e+06  5.441887e+06  241902  GO-20212226010      NSA   \n",
              "281689 -8.853658e+06  5.454890e+06  242054  GO-20212238042      NSA   \n",
              "281690  0.000000e+00  0.000000e+00  242102  GO-20212240466      NSA   \n",
              "281691  0.000000e+00  0.000000e+00  242135  GO-20212242740      NSA   \n",
              "\n",
              "                occurrencedate            reporteddate  \\\n",
              "0       2014/03/02 05:00:00+00  2014/03/02 05:00:00+00   \n",
              "1       2013/12/24 05:00:00+00  2014/01/03 05:00:00+00   \n",
              "2       2013/01/05 05:00:00+00  2014/01/05 05:00:00+00   \n",
              "3       2013/12/31 05:00:00+00  2014/01/06 05:00:00+00   \n",
              "4       2014/01/03 05:00:00+00  2014/01/07 05:00:00+00   \n",
              "...                        ...                     ...   \n",
              "281687  2021/10/22 04:00:00+00  2021/10/22 04:00:00+00   \n",
              "281688  2021/10/08 04:00:00+00  2021/10/08 04:00:00+00   \n",
              "281689  2021/11/20 05:00:00+00  2021/11/20 05:00:00+00   \n",
              "281690  2021/11/18 05:00:00+00  2021/11/20 05:00:00+00   \n",
              "281691  2021/11/21 05:00:00+00  2021/11/21 05:00:00+00   \n",
              "\n",
              "                                            location_type premises_type  \\\n",
              "0       Single Home, House (Attach Garage, Cottage, Mo...         House   \n",
              "1       Commercial Dwelling Unit (Hotel, Motel, B & B,...    Commercial   \n",
              "2       Commercial Dwelling Unit (Hotel, Motel, B & B,...    Commercial   \n",
              "3       Other Commercial / Corporate Places (For Profi...    Commercial   \n",
              "4       Other Commercial / Corporate Places (For Profi...    Commercial   \n",
              "...                                                   ...           ...   \n",
              "281687  Single Home, House (Attach Garage, Cottage, Mo...         House   \n",
              "281688  Single Home, House (Attach Garage, Cottage, Mo...         House   \n",
              "281689                   Apartment (Rooming House, Condo)     Apartment   \n",
              "281690  Single Home, House (Attach Garage, Cottage, Mo...         House   \n",
              "281691  Streets, Roads, Highways (Bicycle Path, Privat...       Outside   \n",
              "\n",
              "        ucr_code  ...  occurrenceday occurrencedayofyear  occurrencedayofweek  \\\n",
              "0           1430  ...              2                  61           Sunday       \n",
              "1           1610  ...             24                 358           Tuesday      \n",
              "2           1430  ...              5                   5           Saturday     \n",
              "3           2120  ...             31                 365           Tuesday      \n",
              "4           2120  ...              3                   3           Friday       \n",
              "...          ...  ...            ...                 ...                  ...   \n",
              "281687      2120  ...             22                 295           Friday       \n",
              "281688      2120  ...              8                 281           Friday       \n",
              "281689      1430  ...             20                 324           Saturday     \n",
              "281690      1430  ...             18                 322           Thursday     \n",
              "281691      1420  ...             21                 325           Sunday       \n",
              "\n",
              "       occurrencehour              MCI  Hood_ID           Neighbourhood  \\\n",
              "0                   8          Assault        1  West Humber-Clairville   \n",
              "1                  22          Robbery        1  West Humber-Clairville   \n",
              "2                   4          Assault        1  West Humber-Clairville   \n",
              "3                  21  Break and Enter        1  West Humber-Clairville   \n",
              "4                  10  Break and Enter        1  West Humber-Clairville   \n",
              "...               ...              ...      ...                     ...   \n",
              "281687              9  Break and Enter      NSA                     NSA   \n",
              "281688             12  Break and Enter      NSA                     NSA   \n",
              "281689             13          Assault      NSA                     NSA   \n",
              "281690             18          Assault      NSA                     NSA   \n",
              "281691              4          Assault      NSA                     NSA   \n",
              "\n",
              "             Long        Lat ObjectId  \n",
              "0      -79.590332  43.734013        1  \n",
              "1      -79.600701  43.731834        2  \n",
              "2      -79.600794  43.686423        3  \n",
              "3      -79.603876  43.743642        4  \n",
              "4      -79.586443  43.697108        5  \n",
              "...           ...        ...      ...  \n",
              "281687 -79.245151  43.838010   281688  \n",
              "281688 -79.286862  43.847594   281689  \n",
              "281689 -79.533763  43.931775   281690  \n",
              "281690   0.000000   0.000000   281691  \n",
              "281691   0.000000   0.000000   281692  \n",
              "\n",
              "[281692 rows x 30 columns]"
            ],
            "text/html": [
              "\n",
              "  <div id=\"df-ccde2881-22f3-4b47-a15d-b3a01f131e4b\">\n",
              "    <div class=\"colab-df-container\">\n",
              "      <div>\n",
              "<style scoped>\n",
              "    .dataframe tbody tr th:only-of-type {\n",
              "        vertical-align: middle;\n",
              "    }\n",
              "\n",
              "    .dataframe tbody tr th {\n",
              "        vertical-align: top;\n",
              "    }\n",
              "\n",
              "    .dataframe thead th {\n",
              "        text-align: right;\n",
              "    }\n",
              "</style>\n",
              "<table border=\"1\" class=\"dataframe\">\n",
              "  <thead>\n",
              "    <tr style=\"text-align: right;\">\n",
              "      <th></th>\n",
              "      <th>X</th>\n",
              "      <th>Y</th>\n",
              "      <th>Index_</th>\n",
              "      <th>event_unique_id</th>\n",
              "      <th>Division</th>\n",
              "      <th>occurrencedate</th>\n",
              "      <th>reporteddate</th>\n",
              "      <th>location_type</th>\n",
              "      <th>premises_type</th>\n",
              "      <th>ucr_code</th>\n",
              "      <th>...</th>\n",
              "      <th>occurrenceday</th>\n",
              "      <th>occurrencedayofyear</th>\n",
              "      <th>occurrencedayofweek</th>\n",
              "      <th>occurrencehour</th>\n",
              "      <th>MCI</th>\n",
              "      <th>Hood_ID</th>\n",
              "      <th>Neighbourhood</th>\n",
              "      <th>Long</th>\n",
              "      <th>Lat</th>\n",
              "      <th>ObjectId</th>\n",
              "    </tr>\n",
              "  </thead>\n",
              "  <tbody>\n",
              "    <tr>\n",
              "      <th>0</th>\n",
              "      <td>-8.859955e+06</td>\n",
              "      <td>5.424372e+06</td>\n",
              "      <td>110</td>\n",
              "      <td>GO-20141625305</td>\n",
              "      <td>D23</td>\n",
              "      <td>2014/03/02 05:00:00+00</td>\n",
              "      <td>2014/03/02 05:00:00+00</td>\n",
              "      <td>Single Home, House (Attach Garage, Cottage, Mo...</td>\n",
              "      <td>House</td>\n",
              "      <td>1430</td>\n",
              "      <td>...</td>\n",
              "      <td>2</td>\n",
              "      <td>61</td>\n",
              "      <td>Sunday</td>\n",
              "      <td>8</td>\n",
              "      <td>Assault</td>\n",
              "      <td>1</td>\n",
              "      <td>West Humber-Clairville</td>\n",
              "      <td>-79.590332</td>\n",
              "      <td>43.734013</td>\n",
              "      <td>1</td>\n",
              "    </tr>\n",
              "    <tr>\n",
              "      <th>1</th>\n",
              "      <td>-8.861110e+06</td>\n",
              "      <td>5.424036e+06</td>\n",
              "      <td>188</td>\n",
              "      <td>GO-20141272968</td>\n",
              "      <td>D23</td>\n",
              "      <td>2013/12/24 05:00:00+00</td>\n",
              "      <td>2014/01/03 05:00:00+00</td>\n",
              "      <td>Commercial Dwelling Unit (Hotel, Motel, B &amp; B,...</td>\n",
              "      <td>Commercial</td>\n",
              "      <td>1610</td>\n",
              "      <td>...</td>\n",
              "      <td>24</td>\n",
              "      <td>358</td>\n",
              "      <td>Tuesday</td>\n",
              "      <td>22</td>\n",
              "      <td>Robbery</td>\n",
              "      <td>1</td>\n",
              "      <td>West Humber-Clairville</td>\n",
              "      <td>-79.600701</td>\n",
              "      <td>43.731834</td>\n",
              "      <td>2</td>\n",
              "    </tr>\n",
              "    <tr>\n",
              "      <th>2</th>\n",
              "      <td>-8.861120e+06</td>\n",
              "      <td>5.417043e+06</td>\n",
              "      <td>287</td>\n",
              "      <td>GO-20141284361</td>\n",
              "      <td>D23</td>\n",
              "      <td>2013/01/05 05:00:00+00</td>\n",
              "      <td>2014/01/05 05:00:00+00</td>\n",
              "      <td>Commercial Dwelling Unit (Hotel, Motel, B &amp; B,...</td>\n",
              "      <td>Commercial</td>\n",
              "      <td>1430</td>\n",
              "      <td>...</td>\n",
              "      <td>5</td>\n",
              "      <td>5</td>\n",
              "      <td>Saturday</td>\n",
              "      <td>4</td>\n",
              "      <td>Assault</td>\n",
              "      <td>1</td>\n",
              "      <td>West Humber-Clairville</td>\n",
              "      <td>-79.600794</td>\n",
              "      <td>43.686423</td>\n",
              "      <td>3</td>\n",
              "    </tr>\n",
              "    <tr>\n",
              "      <th>3</th>\n",
              "      <td>-8.861463e+06</td>\n",
              "      <td>5.425856e+06</td>\n",
              "      <td>384</td>\n",
              "      <td>GO-20141292177</td>\n",
              "      <td>D23</td>\n",
              "      <td>2013/12/31 05:00:00+00</td>\n",
              "      <td>2014/01/06 05:00:00+00</td>\n",
              "      <td>Other Commercial / Corporate Places (For Profi...</td>\n",
              "      <td>Commercial</td>\n",
              "      <td>2120</td>\n",
              "      <td>...</td>\n",
              "      <td>31</td>\n",
              "      <td>365</td>\n",
              "      <td>Tuesday</td>\n",
              "      <td>21</td>\n",
              "      <td>Break and Enter</td>\n",
              "      <td>1</td>\n",
              "      <td>West Humber-Clairville</td>\n",
              "      <td>-79.603876</td>\n",
              "      <td>43.743642</td>\n",
              "      <td>4</td>\n",
              "    </tr>\n",
              "    <tr>\n",
              "      <th>4</th>\n",
              "      <td>-8.859522e+06</td>\n",
              "      <td>5.418688e+06</td>\n",
              "      <td>438</td>\n",
              "      <td>GO-20141297201</td>\n",
              "      <td>D23</td>\n",
              "      <td>2014/01/03 05:00:00+00</td>\n",
              "      <td>2014/01/07 05:00:00+00</td>\n",
              "      <td>Other Commercial / Corporate Places (For Profi...</td>\n",
              "      <td>Commercial</td>\n",
              "      <td>2120</td>\n",
              "      <td>...</td>\n",
              "      <td>3</td>\n",
              "      <td>3</td>\n",
              "      <td>Friday</td>\n",
              "      <td>10</td>\n",
              "      <td>Break and Enter</td>\n",
              "      <td>1</td>\n",
              "      <td>West Humber-Clairville</td>\n",
              "      <td>-79.586443</td>\n",
              "      <td>43.697108</td>\n",
              "      <td>5</td>\n",
              "    </tr>\n",
              "    <tr>\n",
              "      <th>...</th>\n",
              "      <td>...</td>\n",
              "      <td>...</td>\n",
              "      <td>...</td>\n",
              "      <td>...</td>\n",
              "      <td>...</td>\n",
              "      <td>...</td>\n",
              "      <td>...</td>\n",
              "      <td>...</td>\n",
              "      <td>...</td>\n",
              "      <td>...</td>\n",
              "      <td>...</td>\n",
              "      <td>...</td>\n",
              "      <td>...</td>\n",
              "      <td>...</td>\n",
              "      <td>...</td>\n",
              "      <td>...</td>\n",
              "      <td>...</td>\n",
              "      <td>...</td>\n",
              "      <td>...</td>\n",
              "      <td>...</td>\n",
              "      <td>...</td>\n",
              "    </tr>\n",
              "    <tr>\n",
              "      <th>281687</th>\n",
              "      <td>-8.821530e+06</td>\n",
              "      <td>5.440408e+06</td>\n",
              "      <td>241900</td>\n",
              "      <td>GO-20212225907</td>\n",
              "      <td>NSA</td>\n",
              "      <td>2021/10/22 04:00:00+00</td>\n",
              "      <td>2021/10/22 04:00:00+00</td>\n",
              "      <td>Single Home, House (Attach Garage, Cottage, Mo...</td>\n",
              "      <td>House</td>\n",
              "      <td>2120</td>\n",
              "      <td>...</td>\n",
              "      <td>22</td>\n",
              "      <td>295</td>\n",
              "      <td>Friday</td>\n",
              "      <td>9</td>\n",
              "      <td>Break and Enter</td>\n",
              "      <td>NSA</td>\n",
              "      <td>NSA</td>\n",
              "      <td>-79.245151</td>\n",
              "      <td>43.838010</td>\n",
              "      <td>281688</td>\n",
              "    </tr>\n",
              "    <tr>\n",
              "      <th>281688</th>\n",
              "      <td>-8.826173e+06</td>\n",
              "      <td>5.441887e+06</td>\n",
              "      <td>241902</td>\n",
              "      <td>GO-20212226010</td>\n",
              "      <td>NSA</td>\n",
              "      <td>2021/10/08 04:00:00+00</td>\n",
              "      <td>2021/10/08 04:00:00+00</td>\n",
              "      <td>Single Home, House (Attach Garage, Cottage, Mo...</td>\n",
              "      <td>House</td>\n",
              "      <td>2120</td>\n",
              "      <td>...</td>\n",
              "      <td>8</td>\n",
              "      <td>281</td>\n",
              "      <td>Friday</td>\n",
              "      <td>12</td>\n",
              "      <td>Break and Enter</td>\n",
              "      <td>NSA</td>\n",
              "      <td>NSA</td>\n",
              "      <td>-79.286862</td>\n",
              "      <td>43.847594</td>\n",
              "      <td>281689</td>\n",
              "    </tr>\n",
              "    <tr>\n",
              "      <th>281689</th>\n",
              "      <td>-8.853658e+06</td>\n",
              "      <td>5.454890e+06</td>\n",
              "      <td>242054</td>\n",
              "      <td>GO-20212238042</td>\n",
              "      <td>NSA</td>\n",
              "      <td>2021/11/20 05:00:00+00</td>\n",
              "      <td>2021/11/20 05:00:00+00</td>\n",
              "      <td>Apartment (Rooming House, Condo)</td>\n",
              "      <td>Apartment</td>\n",
              "      <td>1430</td>\n",
              "      <td>...</td>\n",
              "      <td>20</td>\n",
              "      <td>324</td>\n",
              "      <td>Saturday</td>\n",
              "      <td>13</td>\n",
              "      <td>Assault</td>\n",
              "      <td>NSA</td>\n",
              "      <td>NSA</td>\n",
              "      <td>-79.533763</td>\n",
              "      <td>43.931775</td>\n",
              "      <td>281690</td>\n",
              "    </tr>\n",
              "    <tr>\n",
              "      <th>281690</th>\n",
              "      <td>0.000000e+00</td>\n",
              "      <td>0.000000e+00</td>\n",
              "      <td>242102</td>\n",
              "      <td>GO-20212240466</td>\n",
              "      <td>NSA</td>\n",
              "      <td>2021/11/18 05:00:00+00</td>\n",
              "      <td>2021/11/20 05:00:00+00</td>\n",
              "      <td>Single Home, House (Attach Garage, Cottage, Mo...</td>\n",
              "      <td>House</td>\n",
              "      <td>1430</td>\n",
              "      <td>...</td>\n",
              "      <td>18</td>\n",
              "      <td>322</td>\n",
              "      <td>Thursday</td>\n",
              "      <td>18</td>\n",
              "      <td>Assault</td>\n",
              "      <td>NSA</td>\n",
              "      <td>NSA</td>\n",
              "      <td>0.000000</td>\n",
              "      <td>0.000000</td>\n",
              "      <td>281691</td>\n",
              "    </tr>\n",
              "    <tr>\n",
              "      <th>281691</th>\n",
              "      <td>0.000000e+00</td>\n",
              "      <td>0.000000e+00</td>\n",
              "      <td>242135</td>\n",
              "      <td>GO-20212242740</td>\n",
              "      <td>NSA</td>\n",
              "      <td>2021/11/21 05:00:00+00</td>\n",
              "      <td>2021/11/21 05:00:00+00</td>\n",
              "      <td>Streets, Roads, Highways (Bicycle Path, Privat...</td>\n",
              "      <td>Outside</td>\n",
              "      <td>1420</td>\n",
              "      <td>...</td>\n",
              "      <td>21</td>\n",
              "      <td>325</td>\n",
              "      <td>Sunday</td>\n",
              "      <td>4</td>\n",
              "      <td>Assault</td>\n",
              "      <td>NSA</td>\n",
              "      <td>NSA</td>\n",
              "      <td>0.000000</td>\n",
              "      <td>0.000000</td>\n",
              "      <td>281692</td>\n",
              "    </tr>\n",
              "  </tbody>\n",
              "</table>\n",
              "<p>281692 rows × 30 columns</p>\n",
              "</div>\n",
              "      <button class=\"colab-df-convert\" onclick=\"convertToInteractive('df-ccde2881-22f3-4b47-a15d-b3a01f131e4b')\"\n",
              "              title=\"Convert this dataframe to an interactive table.\"\n",
              "              style=\"display:none;\">\n",
              "        \n",
              "  <svg xmlns=\"http://www.w3.org/2000/svg\" height=\"24px\"viewBox=\"0 0 24 24\"\n",
              "       width=\"24px\">\n",
              "    <path d=\"M0 0h24v24H0V0z\" fill=\"none\"/>\n",
              "    <path d=\"M18.56 5.44l.94 2.06.94-2.06 2.06-.94-2.06-.94-.94-2.06-.94 2.06-2.06.94zm-11 1L8.5 8.5l.94-2.06 2.06-.94-2.06-.94L8.5 2.5l-.94 2.06-2.06.94zm10 10l.94 2.06.94-2.06 2.06-.94-2.06-.94-.94-2.06-.94 2.06-2.06.94z\"/><path d=\"M17.41 7.96l-1.37-1.37c-.4-.4-.92-.59-1.43-.59-.52 0-1.04.2-1.43.59L10.3 9.45l-7.72 7.72c-.78.78-.78 2.05 0 2.83L4 21.41c.39.39.9.59 1.41.59.51 0 1.02-.2 1.41-.59l7.78-7.78 2.81-2.81c.8-.78.8-2.07 0-2.86zM5.41 20L4 18.59l7.72-7.72 1.47 1.35L5.41 20z\"/>\n",
              "  </svg>\n",
              "      </button>\n",
              "      \n",
              "  <style>\n",
              "    .colab-df-container {\n",
              "      display:flex;\n",
              "      flex-wrap:wrap;\n",
              "      gap: 12px;\n",
              "    }\n",
              "\n",
              "    .colab-df-convert {\n",
              "      background-color: #E8F0FE;\n",
              "      border: none;\n",
              "      border-radius: 50%;\n",
              "      cursor: pointer;\n",
              "      display: none;\n",
              "      fill: #1967D2;\n",
              "      height: 32px;\n",
              "      padding: 0 0 0 0;\n",
              "      width: 32px;\n",
              "    }\n",
              "\n",
              "    .colab-df-convert:hover {\n",
              "      background-color: #E2EBFA;\n",
              "      box-shadow: 0px 1px 2px rgba(60, 64, 67, 0.3), 0px 1px 3px 1px rgba(60, 64, 67, 0.15);\n",
              "      fill: #174EA6;\n",
              "    }\n",
              "\n",
              "    [theme=dark] .colab-df-convert {\n",
              "      background-color: #3B4455;\n",
              "      fill: #D2E3FC;\n",
              "    }\n",
              "\n",
              "    [theme=dark] .colab-df-convert:hover {\n",
              "      background-color: #434B5C;\n",
              "      box-shadow: 0px 1px 3px 1px rgba(0, 0, 0, 0.15);\n",
              "      filter: drop-shadow(0px 1px 2px rgba(0, 0, 0, 0.3));\n",
              "      fill: #FFFFFF;\n",
              "    }\n",
              "  </style>\n",
              "\n",
              "      <script>\n",
              "        const buttonEl =\n",
              "          document.querySelector('#df-ccde2881-22f3-4b47-a15d-b3a01f131e4b button.colab-df-convert');\n",
              "        buttonEl.style.display =\n",
              "          google.colab.kernel.accessAllowed ? 'block' : 'none';\n",
              "\n",
              "        async function convertToInteractive(key) {\n",
              "          const element = document.querySelector('#df-ccde2881-22f3-4b47-a15d-b3a01f131e4b');\n",
              "          const dataTable =\n",
              "            await google.colab.kernel.invokeFunction('convertToInteractive',\n",
              "                                                     [key], {});\n",
              "          if (!dataTable) return;\n",
              "\n",
              "          const docLinkHtml = 'Like what you see? Visit the ' +\n",
              "            '<a target=\"_blank\" href=https://colab.research.google.com/notebooks/data_table.ipynb>data table notebook</a>'\n",
              "            + ' to learn more about interactive tables.';\n",
              "          element.innerHTML = '';\n",
              "          dataTable['output_type'] = 'display_data';\n",
              "          await google.colab.output.renderOutput(dataTable, element);\n",
              "          const docLink = document.createElement('div');\n",
              "          docLink.innerHTML = docLinkHtml;\n",
              "          element.appendChild(docLink);\n",
              "        }\n",
              "      </script>\n",
              "    </div>\n",
              "  </div>\n",
              "  "
            ]
          },
          "metadata": {},
          "execution_count": 65
        }
      ]
    },
    {
      "cell_type": "code",
      "source": [
        "col_list = ['occurrenceyear',\t'occurrencemonth','occurrenceday','occurrencedayofyear','occurrencedayofweek','occurrencehour','MCI',\t'Division',\t'Hood_ID','premises_type']\n"
      ],
      "metadata": {
        "id": "uKIAHJ4kjaVm"
      },
      "execution_count": 66,
      "outputs": []
    },
    {
      "cell_type": "code",
      "source": [
        "df2 = df[col_list]\n",
        "df2 = df2[df2['occurrenceyear'] > 2019]"
      ],
      "metadata": {
        "id": "-Qx66iVmjtx6"
      },
      "execution_count": 67,
      "outputs": []
    },
    {
      "cell_type": "code",
      "source": [
        "crime_var = pd.factorize(df2['MCI']) \n",
        "df2['MCI'] = crime_var[0]\n",
        "definition_list_MCI = crime_var[1]"
      ],
      "metadata": {
        "id": "qmyd908dkIy1"
      },
      "execution_count": 68,
      "outputs": []
    },
    {
      "cell_type": "code",
      "source": [
        "premise_var = pd.factorize(df2['premises_type'])\n",
        "df2['premises_type'] = premise_var[0]\n",
        "definition_list_premise = premise_var[1] "
      ],
      "metadata": {
        "id": "DYTsJ5bhG94Q"
      },
      "execution_count": 106,
      "outputs": []
    },
    {
      "cell_type": "code",
      "source": [
        "year_var = pd.factorize(df2['occurrenceyear'])\n",
        "df2['occurrenceyear'] = year_var[0]\n",
        "definition_list_year = year_var[1] "
      ],
      "metadata": {
        "id": "pTMKGUFYI-mL"
      },
      "execution_count": 107,
      "outputs": []
    },
    {
      "cell_type": "code",
      "source": [
        "month_var = pd.factorize(df2['occurrencemonth'])\n",
        "df2['occurrencemonth'] = month_var[0]\n",
        "definition_list_month = month_var[1] "
      ],
      "metadata": {
        "id": "6k7xeAezJCLJ"
      },
      "execution_count": 108,
      "outputs": []
    },
    {
      "cell_type": "code",
      "source": [
        "day_var = pd.factorize(df2['occurrenceday'])\n",
        "df2['occurenceday'] = day_var[0]\n",
        "definition_list_day = day_var[1] "
      ],
      "metadata": {
        "id": "oPYdLmYaJDkX"
      },
      "execution_count": 109,
      "outputs": []
    },
    {
      "cell_type": "code",
      "source": [
        "dayweek_var = pd.factorize(df2['occurrencedayofweek'])\n",
        "df2['occurrencedayofweek'] = dayweek_var[0]\n",
        "definition_list_day = dayweek_var[1] "
      ],
      "metadata": {
        "id": "sf5PnYAOJHtK"
      },
      "execution_count": 110,
      "outputs": []
    },
    {
      "cell_type": "code",
      "source": [
        "division_var = pd.factorize(df2['Division'])\n",
        "df2['Division'] = division_var[0]\n",
        "definition_list_division = division_var[1] "
      ],
      "metadata": {
        "id": "6OyCjIDeJMGQ"
      },
      "execution_count": 111,
      "outputs": []
    },
    {
      "cell_type": "code",
      "source": [
        "hood_var = pd.factorize(df2['Hood_ID'])\n",
        "df2['Hood_ID'] = hood_var[0]\n",
        "definition_list_hood = hood_var[1] "
      ],
      "metadata": {
        "id": "TmCYPdPnN565"
      },
      "execution_count": 112,
      "outputs": []
    },
    {
      "cell_type": "code",
      "source": [
        "hour_var = pd.factorize(df2['occurrencehour'])\n",
        "df2['occurrencehour'] = hour_var[0]\n",
        "definition_list_hour = hour_var[1] "
      ],
      "metadata": {
        "id": "I74N2YpGndFf"
      },
      "execution_count": 113,
      "outputs": []
    },
    {
      "cell_type": "code",
      "source": [
        "dayyear_var = pd.factorize(df2['occurrencedayofyear'])\n",
        "df2['occurrencedayofyear'] = dayyear_var[0]\n",
        "definition_list_dayyear = dayyear_var[1] "
      ],
      "metadata": {
        "id": "1qZREfTXngnn"
      },
      "execution_count": 114,
      "outputs": []
    },
    {
      "cell_type": "code",
      "source": [
        "X = df2.drop(['MCI'],axis=1).values \n"
      ],
      "metadata": {
        "id": "3k9kM4UVoWu3"
      },
      "execution_count": 115,
      "outputs": []
    },
    {
      "cell_type": "code",
      "source": [
        "y = df2['MCI'].values"
      ],
      "metadata": {
        "id": "lkfDHpslsIR7"
      },
      "execution_count": 116,
      "outputs": []
    },
    {
      "cell_type": "code",
      "source": [
        "X_train, X_test, y_train, y_test = train_test_split(X, y, test_size = 0.25, random_state = 21)"
      ],
      "metadata": {
        "id": "ga4iYrKOsvCr"
      },
      "execution_count": 117,
      "outputs": []
    },
    {
      "cell_type": "code",
      "source": [
        "binary_encoder = OneHotEncoder(sparse=False)\n",
        "encoded_X = binary_encoder.fit_transform(X)\n",
        "\n",
        "X_train_OH, X_test_OH, y_train_OH, y_test_OH = train_test_split(encoded_X, y, test_size = 0.25, random_state = 21)\n"
      ],
      "metadata": {
        "id": "bh4Kh01hswu_"
      },
      "execution_count": 118,
      "outputs": []
    },
    {
      "cell_type": "code",
      "source": [
        "classifier = RandomForestClassifier(n_estimators = 100, criterion = 'entropy', random_state = 42)\n",
        "classifier.fit(X_train, y_train)\n",
        "y_pred = classifier.predict(X_test)"
      ],
      "metadata": {
        "id": "XfQSA_sVs1Si"
      },
      "execution_count": 120,
      "outputs": []
    },
    {
      "cell_type": "code",
      "source": [
        "print(accuracy_score(y_test, y_pred)) \n",
        "print(confusion_matrix(y_test, y_pred)) \n",
        "print(classification_report(y_test,y_pred, target_names=definition_list_MCI))"
      ],
      "metadata": {
        "colab": {
          "base_uri": "https://localhost:8080/"
        },
        "id": "nvdtqsrLvYcb",
        "outputId": "2e936884-ff1a-4604-8915-fb898828079a"
      },
      "execution_count": 121,
      "outputs": [
        {
          "output_type": "stream",
          "name": "stdout",
          "text": [
            "0.6353133387793208\n",
            "[[7476  699   31  144  706]\n",
            " [1577 1306   34   35  213]\n",
            " [ 337  117    7   10   99]\n",
            " [ 585  128    2  405  140]\n",
            " [1138  194   15   46 1694]]\n",
            "                 precision    recall  f1-score   support\n",
            "\n",
            "        Assault       0.67      0.83      0.74      9056\n",
            "Break and Enter       0.53      0.41      0.47      3165\n",
            "     Theft Over       0.08      0.01      0.02       570\n",
            "        Robbery       0.63      0.32      0.43      1260\n",
            "     Auto Theft       0.59      0.55      0.57      3087\n",
            "\n",
            "       accuracy                           0.64     17138\n",
            "      macro avg       0.50      0.42      0.45     17138\n",
            "   weighted avg       0.61      0.64      0.61     17138\n",
            "\n"
          ]
        }
      ]
    },
    {
      "cell_type": "code",
      "source": [
        "classifier = RandomForestClassifier(n_estimators = 100, criterion = 'entropy', random_state = 42)\n",
        "classifier.fit(X_train_OH, y_train_OH)\n",
        "y_pred_OH = classifier.predict(X_test_OH)"
      ],
      "metadata": {
        "id": "t4xFUEIXvgQP"
      },
      "execution_count": 122,
      "outputs": []
    },
    {
      "cell_type": "code",
      "source": [
        "print(accuracy_score(y_test_OH, y_pred_OH)) \n",
        "print(confusion_matrix(y_test_OH, y_pred_OH)) \n",
        "print(classification_report(y_test_OH,y_pred_OH, target_names=definition_list_MCI))"
      ],
      "metadata": {
        "colab": {
          "base_uri": "https://localhost:8080/"
        },
        "id": "w-GHUovFvssM",
        "outputId": "0af0c4a1-1bf2-4038-ad0d-12016aa68380"
      },
      "execution_count": 123,
      "outputs": [
        {
          "output_type": "stream",
          "name": "stdout",
          "text": [
            "0.656144240868246\n",
            "[[7772  499   11  107  667]\n",
            " [1618 1305   29   20  193]\n",
            " [ 379   93    2    1   95]\n",
            " [ 647  100    0  397  116]\n",
            " [1148  137   10   23 1769]]\n",
            "                 precision    recall  f1-score   support\n",
            "\n",
            "        Assault       0.67      0.86      0.75      9056\n",
            "Break and Enter       0.61      0.41      0.49      3165\n",
            "     Theft Over       0.04      0.00      0.01       570\n",
            "        Robbery       0.72      0.32      0.44      1260\n",
            "     Auto Theft       0.62      0.57      0.60      3087\n",
            "\n",
            "       accuracy                           0.66     17138\n",
            "      macro avg       0.53      0.43      0.46     17138\n",
            "   weighted avg       0.63      0.66      0.63     17138\n",
            "\n"
          ]
        }
      ]
    },
    {
      "cell_type": "code",
      "source": [
        "classifier = RandomForestClassifier(n_estimators = 100, criterion = 'entropy', random_state = 42, class_weight='balanced')\n",
        "classifier.fit(X_train, y_train)\n",
        "y_pred = classifier.predict(X_test) \n",
        "print(accuracy_score(y_test, y_pred)) \n",
        "print(confusion_matrix(y_test, y_pred)) \n",
        "print(classification_report(y_test,y_pred, target_names=definition_list_MCI)) "
      ],
      "metadata": {
        "colab": {
          "base_uri": "https://localhost:8080/"
        },
        "id": "btqX0hnDv35f",
        "outputId": "64a07ada-86ad-4a7a-c598-1b447a002dc0"
      },
      "execution_count": 124,
      "outputs": [
        {
          "output_type": "stream",
          "name": "stdout",
          "text": [
            "0.629303302602404\n",
            "[[7490  698   31  167  670]\n",
            " [1647 1231   34   42  211]\n",
            " [ 342  105    8    8  107]\n",
            " [ 593  109    3  421  134]\n",
            " [1181  202   14   55 1635]]\n",
            "                 precision    recall  f1-score   support\n",
            "\n",
            "        Assault       0.67      0.83      0.74      9056\n",
            "Break and Enter       0.52      0.39      0.45      3165\n",
            "     Theft Over       0.09      0.01      0.02       570\n",
            "        Robbery       0.61      0.33      0.43      1260\n",
            "     Auto Theft       0.59      0.53      0.56      3087\n",
            "\n",
            "       accuracy                           0.63     17138\n",
            "      macro avg       0.50      0.42      0.44     17138\n",
            "   weighted avg       0.60      0.63      0.61     17138\n",
            "\n"
          ]
        }
      ]
    },
    {
      "cell_type": "code",
      "source": [
        "grad_class = GradientBoostingClassifier(learning_rate=0.1,n_estimators = 10, random_state = 42)\n",
        "grad_class.fit(X_train_OH, y_train_OH)\n",
        "y_pred_OH = grad_class.predict(X_test_OH)"
      ],
      "metadata": {
        "id": "rB2aHk0QwLkB"
      },
      "execution_count": 127,
      "outputs": []
    },
    {
      "cell_type": "code",
      "source": [
        "print(accuracy_score(y_test_OH, y_pred_OH)) \n",
        "print(confusion_matrix(y_test_OH, y_pred_OH)) \n",
        "print(classification_report(y_test_OH,y_pred_OH, target_names=definition_list_MCI)) "
      ],
      "metadata": {
        "colab": {
          "base_uri": "https://localhost:8080/"
        },
        "id": "ZfcQ-jLOwpli",
        "outputId": "8672ea6a-143c-48a0-a264-76703412f468"
      },
      "execution_count": 128,
      "outputs": [
        {
          "output_type": "stream",
          "name": "stdout",
          "text": [
            "0.548955537402264\n",
            "[[8941   36    0    0   79]\n",
            " [2927  225    0    1   12]\n",
            " [ 544    5    0    0   21]\n",
            " [1213   21    1    0   25]\n",
            " [2829   16    0    0  242]]\n",
            "                 precision    recall  f1-score   support\n",
            "\n",
            "        Assault       0.54      0.99      0.70      9056\n",
            "Break and Enter       0.74      0.07      0.13      3165\n",
            "     Theft Over       0.00      0.00      0.00       570\n",
            "        Robbery       0.00      0.00      0.00      1260\n",
            "     Auto Theft       0.64      0.08      0.14      3087\n",
            "\n",
            "       accuracy                           0.55     17138\n",
            "      macro avg       0.38      0.23      0.19     17138\n",
            "   weighted avg       0.54      0.55      0.42     17138\n",
            "\n"
          ]
        }
      ]
    }
  ]
}